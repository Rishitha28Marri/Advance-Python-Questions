{
 "cells": [
  {
   "cell_type": "markdown",
   "id": "1763bfc5-431f-4876-9643-4a1c18c94753",
   "metadata": {},
   "source": [
    "Q1. What is the distinction between a numpy array and a pandas data frame? Is there a way to convert between the two if there is?\n",
    "\n",
    "Numpy array and Pandas data frame are both data structures in Python that are commonly used for data manipulation and analysis. However, they have some key differences.\n",
    "\n",
    "Numpy array is a homogeneous multidimensional array that contains elements of the same data type. It is optimized for numerical computations and mathematical operations. In contrast, a pandas data frame is a heterogeneous two-dimensional tabular data structure with labeled axes (rows and columns). It can store data of different types (e.g., integers, floating-point numbers, strings, and so on).\n",
    "\n",
    "Numpy arrays are ideal for performing mathematical operations such as matrix multiplication, dot products, and statistical calculations, while pandas data frames are used more for data manipulation, data cleaning, data analysis, and data visualization.\n",
    "\n",
    "Numpy arrays have fixed dimensions, and it is not easy to add or delete rows or columns. However, pandas data frames can easily add or delete rows or columns as required.\n",
    "\n",
    "There are several ways to convert between numpy arrays and pandas data frames:\n",
    "\n",
    "To convert a numpy array to a pandas data frame, you can use the pandas DataFrame() function. For example, df = pd.DataFrame(np_array) will create a new pandas data frame from the numpy array np_array.\n",
    "\n",
    "To convert a pandas data frame to a numpy array, you can use the to_numpy() method. For example, np_array = df.to_numpy() will create a new numpy array from the pandas data frame df.\n"
   ]
  },
  {
   "cell_type": "markdown",
   "id": "e618515f-64e1-460e-ae8b-35deff585665",
   "metadata": {},
   "source": [
    "Q2. What can go wrong when an user enters in a stock-ticker symbol, and how do you handle it?\n",
    "\n",
    "When a user enters a stock ticker symbol, several issues can arise.\n",
    "\n",
    "Incorrect or misspelled ticker symbol: Users may enter a symbol that does not exist or is misspelled, which will cause the program to fail.\n",
    "\n",
    "Ambiguous ticker symbols: Some ticker symbols can be ambiguous, meaning that they represent multiple companies or funds. This can lead to confusion and incorrect results.\n",
    "\n",
    "Incomplete or missing data: The stock market is dynamic and constantly changing, so it is possible that the data provided may be incomplete or missing.\n",
    "\n",
    "To handle these issues, the program can implement error handling and validation techniques. The program can use try-except blocks to catch any exceptions that may occur due to incorrect or ambiguous ticker symbols. Additionally, the program can check the validity of the ticker symbol and provide suggestions if a misspelling is detected. Finally, the program can fetch additional data if incomplete or missing data is detected, or it can notify the user that the data is not available.\n",
    "\n",
    "Regarding ambiguous symbols, the program can provide additional context to the user to avoid confusion. It can provide a list of companies or funds that share the same symbol or ask the user to provide additional information to distinguish between the different entities.\n",
    "\n",
    "There are several APIs and packages available, such as the pandas-datareader or the yfinance package, that can be used to fetch stock data for analysis and visualization. These packages can be used to convert the data between a pandas data frame and a numpy array."
   ]
  },
  {
   "cell_type": "markdown",
   "id": "80cb5bfb-c478-42b1-9eac-7f31cbe3e8d4",
   "metadata": {},
   "source": [
    "Q3. Identify some of the plotting techniques that are used to produce a stock-market chart.\n",
    "\n",
    "Stock-market charts are used to visualize the price and volume movements of a particular stock or an index. Here are some common plotting techniques used to create these charts:\n",
    "\n",
    "Line chart: This is a simple plot of stock prices over time, where the x-axis represents time and the y-axis represents stock prices.\n",
    "\n",
    "Candlestick chart: This chart is created by plotting the open, high, low, and close prices of a stock over a given period of time. Each trading day is represented by a candlestick that shows the opening and closing prices as well as the highest and lowest prices.\n",
    "\n",
    "Area chart: This chart is similar to a line chart but with the area under the line shaded. It is often used to represent the total value of a stock or index over time.\n",
    "\n",
    "Bar chart: This chart represents the price movements of a stock over a period of time with bars. Each bar shows the opening and closing prices, as well as the highest and lowest prices for that period.\n",
    "\n",
    "Volume chart: This chart shows the trading volume of a stock over a period of time. It is often displayed alongside other charts to provide context for price movements."
   ]
  },
  {
   "cell_type": "markdown",
   "id": "5944dbc7-f110-4a86-afda-fa8605a35d99",
   "metadata": {},
   "source": [
    "Q4. Why is it essential to print a legend on a stock market chart?\n",
    "\n",
    "It is essential to print a legend on a stock market chart as it provides crucial information about the data being plotted on the chart. The legend helps the viewer to identify what each line or color represents in terms of stock, price, or other relevant information. Without a legend, the viewer may not be able to accurately interpret the information being presented in the chart. The legend makes it easier for the viewer to understand the meaning of the chart, make comparisons, and draw conclusions."
   ]
  },
  {
   "cell_type": "markdown",
   "id": "6a2c5c57-1010-47f0-ba49-aad0932cf63d",
   "metadata": {},
   "source": [
    "Q5. What is the best way to limit the length of a pandas data frame to less than a year?\n",
    "\n",
    "To limit the length of a pandas data frame to less than a year, you can filter the data based on the date range using the loc method. For example, if your data frame has a datetime column named date\n",
    "import pandas as pd\n",
    "from datetime import datetime, timedelta\n",
    "\n",
    "#create a sample data frame\n",
    "df = pd.DataFrame({'date': pd.date_range(start='2022-01-01', end='2023-03-22')})\n",
    "\n",
    "#filter the data for the past year\n",
    "one_year_ago = datetime.today() - timedelta(days=365)\n",
    "df = df.loc[df['date'] >= one_year_ago]\n",
    "\n",
    "In this code, datetime.today() gets the current date, and timedelta(days=365) creates a time delta object representing one year. We then subtract the time delta from the current date to get the date one year ago, which we use to filter the data frame with df.loc[df['date'] >= one_year_ago]. This returns only the rows where the date is greater than or equal to one year ago."
   ]
  },
  {
   "cell_type": "markdown",
   "id": "bc6a2c03-7aa0-4ee6-87d3-b11b8e5ae211",
   "metadata": {},
   "source": [
    "Q6. What is the definition of a 180-day moving average?\n",
    "\n",
    "A 180-day moving average is a financial indicator that calculates the average closing price of a stock or security over the last 180 days. This moving average provides a trend line that smooths out fluctuations in the stock's price over time, making it easier to identify trends and potential changes in direction. The 180-day moving average is widely used in technical analysis to help traders and investors make informed decisions about buying and selling securities."
   ]
  },
  {
   "cell_type": "markdown",
   "id": "768d293e-5eb7-44ad-8835-4df93bf35495",
   "metadata": {},
   "source": [
    "Q7. Did the chapter&#39;s final example use &quot;indirect&quot; importing? If so, how exactly do you do it?\n",
    "\n",
    "No, the chapter's final example did not use \"indirect\" importing. Indirect importing is a technique where a module is imported within a function or a class, rather than at the top of the file.\n",
    "\n",
    "To use indirect importing, you can simply import the required module within the function or class that needs it. This can be useful in cases where the module is only needed in a specific part of the code, or if the module is only available under certain conditions."
   ]
  }
 ],
 "metadata": {
  "kernelspec": {
   "display_name": "Python 3 (ipykernel)",
   "language": "python",
   "name": "python3"
  },
  "language_info": {
   "codemirror_mode": {
    "name": "ipython",
    "version": 3
   },
   "file_extension": ".py",
   "mimetype": "text/x-python",
   "name": "python",
   "nbconvert_exporter": "python",
   "pygments_lexer": "ipython3",
   "version": "3.10.6"
  }
 },
 "nbformat": 4,
 "nbformat_minor": 5
}
