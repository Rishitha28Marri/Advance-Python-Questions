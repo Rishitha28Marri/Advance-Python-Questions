{
 "cells": [
  {
   "cell_type": "markdown",
   "id": "f8cb8c01-22cb-48c5-aa87-17def241f51f",
   "metadata": {},
   "source": [
    "1. Explain the difference between greedy and non-greedy syntax with visual terms in as few words as possible. What is the bare minimum effort required to transform a greedy pattern into a non-greedy one? What characters or characters can you introduce or change?\n",
    "\n",
    "In regular expressions, greedy syntax matches as much input as possible, while non-greedy syntax matches as little as possible. To transform a greedy pattern into a non-greedy one, simply add a ? after the quantifier. For example, .* is a greedy pattern that matches everything, while .*? is a non-greedy pattern that matches as little as possible."
   ]
  },
  {
   "cell_type": "markdown",
   "id": "3f538dc9-4899-4bc6-8cab-ba6f1540f663",
   "metadata": {},
   "source": [
    "Q2. When exactly does greedy versus non-greedy make a difference?  What if you&#39;re looking for a non-greedy match but the only one available is greedy?\n",
    "\n",
    "The difference between greedy and non-greedy matching occurs when there are multiple matches that fit a given regular expression. Greedy matching attempts to match as much text as possible, while non-greedy (or lazy) matching attempts to match as little text as possible.\n",
    "\n",
    "If you are looking for a non-greedy match but the only one available is greedy, you can use the ? symbol after the quantifier to make it non-greedy. This works in most regular expression engines."
   ]
  },
  {
   "cell_type": "markdown",
   "id": "e147404e-14ff-4579-bd67-d8fe3d5ce8b8",
   "metadata": {},
   "source": [
    "Q3. In a simple match of a string, which looks only for one match and does not do any replacement, is the use of a nontagged group likely to make any practical difference?\n",
    "\n",
    "In a simple match of a string, which looks only for one match and does not do any replacement, the use of a non-tagged group does not make any practical difference. The main purpose of using a non-tagged group is to group together parts of a regular expression so that you can apply a repetition or other operation to them. If you are not doing any operation on the group, using a non-tagged group has no significant effect."
   ]
  },
  {
   "cell_type": "markdown",
   "id": "ecef15a1-8fa7-4fdf-bc05-979e61a430a8",
   "metadata": {},
   "source": [
    "Q4. Describe a scenario in which using a nontagged category would have a significant impact on the program&#39;s outcomes.\n",
    "\n",
    "Using a nontagged category can have a significant impact on a program's outcomes when performing complex regex operations. For instance, suppose we want to extract all the HTML tags from an HTML document using regex. We can use a regex pattern like <.*?> to extract all the HTML tags. However, this pattern is greedy and matches the entire HTML document instead of individual tags. To extract individual tags, we can use a nontagged category like <[^>]*> instead. This pattern matches everything between < and >, excluding any other > symbols within the match. Using this pattern ensures that we extract only individual tags, rather than the entire document."
   ]
  },
  {
   "cell_type": "markdown",
   "id": "a4954cbc-0415-4ace-a88c-ff75339fa2fe",
   "metadata": {},
   "source": [
    "Q5. Unlike a normal regex pattern, a look-ahead condition does not consume the characters it examines. Describe a situation in which this could make a difference in the results of your programme.\n",
    "\n",
    "A look-ahead condition in a regex pattern is used to ensure that a certain pattern exists ahead of the current matching position without including it in the match itself. This can be useful in scenarios where you want to match a specific pattern but only if it is followed by another specific pattern. For example, suppose you have a string that contains a list of names and phone numbers, separated by commas. You want to extract only the phone numbers that are followed by the word \"home\". You can use a look-ahead assertion to check if the word \"home\" appears after the phone number without including it in the match itself.\n",
    "\n",
    "In this case, using a look-ahead condition instead of a normal regex pattern can make a significant difference in the program's results because it allows you to filter out unwanted matches without including them in the final output. Without the look-ahead condition, you would need to extract all phone numbers and then filter out the ones that are not followed by the word \"home\", which could be more time-consuming and less efficient."
   ]
  },
  {
   "cell_type": "markdown",
   "id": "2abed073-c4b3-47af-8638-e649c0c56131",
   "metadata": {},
   "source": [
    "Q6. In standard expressions, what is the difference between positive look-ahead and negative look-ahead?\n",
    "\n",
    "In regular expressions, both positive look-ahead and negative look-ahead are used to specify a pattern to match only if it is followed by another specific pattern. The main difference between positive and negative look-ahead is that positive look-ahead matches the pattern if it is followed by the specified pattern, whereas negative look-ahead matches the pattern only if it is not followed by the specified pattern.\n",
    "For example, let's consider a string \"apple juice\" and we want to match the word \"apple\" only if it is followed by \"juice\". We can use positive look-ahead for this purpose:\n",
    "import re\n",
    "\n",
    "string = \"apple juice\"\n",
    "pattern = \"apple(?= juice)\"\n",
    "match = re.search(pattern, string)\n",
    "\n",
    "print(match.group()) # Output: apple\n",
    "\n",
    "On the other hand, if we want to match the word \"apple\" only if it is not followed by \"pie\", we can use negative look-ahead:\n",
    "import re\n",
    "\n",
    "string = \"apple juice\"\n",
    "pattern = \"apple(?! pie)\"\n",
    "match = re.search(pattern, string)\n",
    "\n",
    "print(match.group()) # Output: apple"
   ]
  },
  {
   "cell_type": "markdown",
   "id": "2145b0b0-f0fb-4e59-941c-2e8dd8cdc4c2",
   "metadata": {},
   "source": [
    "Q7. What is the benefit of referring to groups by name rather than by number in a standard expression?\n",
    "\n",
    "In a standard expression, referring to groups by name rather than by number has several benefits:\n",
    "\n",
    "Readability: It makes the regular expression more readable and easier to understand, especially when dealing with complex patterns that have multiple groups.\n",
    "\n",
    "Maintenance: If the regular expression needs to be modified later, referring to groups by name makes it less likely that the numbering of the groups will change and cause errors in the code.\n",
    "\n",
    "Clarity: Named groups make the intent of the pattern clearer and make it easier to communicate with others about what the pattern is trying to match.\n",
    "\n",
    "Reusability: Named groups can be reused in the same regular expression or in other regular expressions, making it easier to create complex patterns and to refactor code."
   ]
  },
  {
   "cell_type": "markdown",
   "id": "81e7eadb-44fc-42bb-94b5-e3a0955860a3",
   "metadata": {},
   "source": [
    "Q8. Can you identify repeated items within a target string using named groups, as in &quot;The cow jumped over the moon&quot;?\n",
    "\n",
    "Yes, you can identify repeated items within a target string using named groups. For example, to identify repeated words in the string \"The cow jumped over the moon\", you can use the following regular expression with named group:\n",
    "\n",
    "import re\n",
    "\n",
    "string = \"The cow jumped over the moon\"\n",
    "pattern = r'\\b(?P<word>\\w+)\\b(?=.*\\b\\1\\b)'\n",
    "\n",
    "matches = re.findall(pattern, string)\n",
    "print(matches) # Output: ['the']\n",
    "\n"
   ]
  },
  {
   "cell_type": "markdown",
   "id": "644b4eff-5654-48cb-a03a-874ba4b02335",
   "metadata": {},
   "source": [
    "Q9. When parsing a string, what is at least one thing that the Scanner interface does for you that the re.findall feature does not?\n",
    "\n",
    "The Scanner interface in Java is used for parsing strings and can tokenize them into individual tokens, which can be further processed. One thing that the Scanner interface does that the re.findall feature in Python does not is that it allows you to easily parse different types of data from a string, such as integers or floating-point numbers, by providing methods like nextInt() and nextDouble(). In contrast, re.findall simply returns a list of all non-overlapping matches in the string, without any special handling of the data type."
   ]
  },
  {
   "cell_type": "markdown",
   "id": "2bf7d331-8bac-4152-a70b-d6169b69b5f7",
   "metadata": {},
   "source": [
    "Q10. Does a scanner object have to be named scanner?\n",
    "\n",
    "No, a scanner object can be named anything the programmer chooses as long as the variable name is not already in use."
   ]
  }
 ],
 "metadata": {
  "kernelspec": {
   "display_name": "Python 3 (ipykernel)",
   "language": "python",
   "name": "python3"
  },
  "language_info": {
   "codemirror_mode": {
    "name": "ipython",
    "version": 3
   },
   "file_extension": ".py",
   "mimetype": "text/x-python",
   "name": "python",
   "nbconvert_exporter": "python",
   "pygments_lexer": "ipython3",
   "version": "3.10.6"
  }
 },
 "nbformat": 4,
 "nbformat_minor": 5
}
