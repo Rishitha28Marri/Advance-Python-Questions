{
 "cells": [
  {
   "cell_type": "markdown",
   "id": "2ec1385e-6b47-4957-8595-97ad20d2317d",
   "metadata": {},
   "source": [
    "1. What are the new features added in Python 3.8 version?\n",
    "\n",
    "Assignment Expressions (or Walrus operator): This operator allows you to assign values to variables as part of a larger expression. It is denoted by \":=\" and can be useful for simplifying code and improving readability.\n",
    "Positional-only parameters: This feature allows function parameters to be designated as positional-only, meaning they can only be specified by their position in the function call and not by keyword. This can help make functions more flexible and easier to use.\n",
    "f-strings support \"=\" for self-documenting expressions and debugging: With the addition of the \"=\" specifier, f-strings can now display the result of an expression along with the expression itself, making it easier to debug.\n",
    "Python now uses a new parser called PEG: This new parser is more flexible and easier to maintain than the old parser, and it also allows for better error reporting.\n",
    "Improved Type Hints: Type hints have been improved to allow more precise annotations, including literal types and final variables.\n",
    "Performance optimizations: Several performance optimizations were made in Python 3.8, including faster string and math operations, faster startup times, and improved garbage collection.\n"
   ]
  },
  {
   "cell_type": "markdown",
   "id": "00efbe61-c80e-4461-980a-265b7f18cf44",
   "metadata": {},
   "source": [
    "2. What is monkey patching in Python?\n",
    "\n",
    "Monkey patching is a technique in Python where a module, class or object is dynamically modified at runtime by replacing, adding or deleting attributes or methods. It allows you to modify the behavior of existing code without actually changing the source code. It can be useful in situations where you need to modify the behavior of a library or module that you don't have control over, or to quickly test out new functionality without having to create a new version of the code. However, it can also be a dangerous practice as it can lead to unexpected behavior and make code harder to debug and maintain."
   ]
  },
  {
   "cell_type": "markdown",
   "id": "a04e0c64-d12b-4f86-9862-bf391aeafbc2",
   "metadata": {},
   "source": [
    "3. What is the difference between a shallow copy and deep copy?\n",
    "\n",
    "A shallow copy creates a new object, but the contents of the object refer to the original object. This means that any changes made to the original object will be reflected in the shallow copy. In Python, you can create a shallow copy of an object using the copy() method or using the slicing syntax [:].\n",
    "\n",
    "A deep copy, on the other hand, creates a new object with a new memory address that is completely independent of the original object. Any changes made to the original object will not be reflected in the deep copy. In Python, you can create a deep copy of an object using the copy.deepcopy() method."
   ]
  },
  {
   "cell_type": "markdown",
   "id": "7d730c13-dd39-4216-8ab2-432518069643",
   "metadata": {},
   "source": [
    "4. What is the maximum possible length of an identifier?\n",
    "\n",
    "In Python, the maximum length of an identifier is not specified. However, it is recommended to keep the length of the identifier under 79 characters as per the PEP 8 style guide."
   ]
  },
  {
   "cell_type": "markdown",
   "id": "a4b2631c-3703-4618-862c-8582d26e2da7",
   "metadata": {},
   "source": [
    "5. What is generator comprehension?\n",
    "\n",
    "Generator comprehension is a concise way to create a generator in Python. It is similar to list comprehension, but instead of creating a list, it creates a generator object. The syntax for generator comprehension is similar to list comprehension, but it uses round brackets () instead of square brackets []."
   ]
  }
 ],
 "metadata": {
  "kernelspec": {
   "display_name": "Python 3 (ipykernel)",
   "language": "python",
   "name": "python3"
  },
  "language_info": {
   "codemirror_mode": {
    "name": "ipython",
    "version": 3
   },
   "file_extension": ".py",
   "mimetype": "text/x-python",
   "name": "python",
   "nbconvert_exporter": "python",
   "pygments_lexer": "ipython3",
   "version": "3.10.6"
  }
 },
 "nbformat": 4,
 "nbformat_minor": 5
}
